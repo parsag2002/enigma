{
 "cells": [
  {
   "cell_type": "markdown",
   "id": "8091d249-c52d-47ff-90ba-49af23fec4a4",
   "metadata": {},
   "source": [
    "# Building the rotors\n",
    "    here we make five rotors by randomly shuffling the alphabet.\n",
    "## The key point:\n",
    "    each time you run this program you will get new five rotors **with different sequence**,\n",
    "    So It won't be the initial rotors used in the machine."
   ]
  },
  {
   "cell_type": "code",
   "execution_count": 53,
   "id": "25401f07-5281-495e-82ac-762f21cb1c6e",
   "metadata": {},
   "outputs": [],
   "source": [
    "from random import shuffle\n",
    "import pickle"
   ]
  },
  {
   "cell_type": "code",
   "execution_count": 54,
   "id": "224c6dbe-4635-4123-b3dd-7d734715badf",
   "metadata": {},
   "outputs": [],
   "source": [
    "alphabet = 'abcdefghijklmnopqrstuvwxyz'"
   ]
  },
  {
   "cell_type": "markdown",
   "id": "df86a0e2-44ed-468e-856c-b088e3cee97a",
   "metadata": {},
   "source": [
    "# Randomizing sequence:\n",
    "    It shuffle the alphabet and make a new string."
   ]
  },
  {
   "cell_type": "code",
   "execution_count": 55,
   "id": "46ad48a8-5a8f-499b-aa1b-375abbf6bc5d",
   "metadata": {},
   "outputs": [],
   "source": [
    "rotorI = list(alphabet)\n",
    "shuffle(rotorI)\n",
    "rotorI = ''.join(rotorI)"
   ]
  },
  {
   "cell_type": "markdown",
   "id": "bcd04197-8784-44a1-ac4d-4f172d3f3848",
   "metadata": {},
   "source": [
    "## Making four more rotors:\n",
    "    Just like that one, we continue."
   ]
  },
  {
   "cell_type": "code",
   "execution_count": 56,
   "id": "15839e79-9027-4197-ae44-b5c0a0f3db0f",
   "metadata": {},
   "outputs": [],
   "source": [
    "rotorII = list(alphabet)\n",
    "shuffle(rotorII)\n",
    "rotorII = ''.join(rotorII)\n",
    "\n",
    "rotorIII = list(alphabet)\n",
    "shuffle(rotorIII)\n",
    "rotorIII = ''.join(rotorIII)\n",
    "\n",
    "rotorIV = list(alphabet)\n",
    "shuffle(rotorIV)\n",
    "rotorIV = ''.join(rotorIV)\n",
    "\n",
    "rotorV = list(alphabet)\n",
    "shuffle(rotorV)\n",
    "rotorV = ''.join(rotorV)"
   ]
  },
  {
   "cell_type": "markdown",
   "id": "4d258848-94fb-4e49-b887-afed042ba84f",
   "metadata": {},
   "source": [
    "## Merging in one list"
   ]
  },
  {
   "cell_type": "code",
   "execution_count": 58,
   "id": "da1f0dfc-ad4b-4dd6-abc9-66e0b33101a4",
   "metadata": {},
   "outputs": [],
   "source": [
    "rotors = [rotorI, rotorII, rotorIII, rotorIV, rotorV]"
   ]
  },
  {
   "cell_type": "markdown",
   "id": "8f8624f0-4286-4ea8-8592-db6499e96ecd",
   "metadata": {},
   "source": [
    "# Encrypting rotors sequence:\n",
    "    Using pickle module we save them in a pickle file so no one can read it."
   ]
  },
  {
   "cell_type": "code",
   "execution_count": 59,
   "id": "c9e6d9cb-0189-4ae6-959d-8cfd2889043a",
   "metadata": {},
   "outputs": [],
   "source": [
    "with open('rotors.pickle', 'wb') as file:\n",
    "    pickle.dump(rotors, file)"
   ]
  },
  {
   "cell_type": "markdown",
   "id": "2a07621f-0ff7-47f2-a2d2-20267932616a",
   "metadata": {},
   "source": [
    "## Note:\n",
    "    If you run this program one more time, you will get the new rotors.pickle file with different sequences."
   ]
  }
 ],
 "metadata": {
  "kernelspec": {
   "display_name": "Python 3 (ipykernel)",
   "language": "python",
   "name": "python3"
  },
  "language_info": {
   "codemirror_mode": {
    "name": "ipython",
    "version": 3
   },
   "file_extension": ".py",
   "mimetype": "text/x-python",
   "name": "python",
   "nbconvert_exporter": "python",
   "pygments_lexer": "ipython3",
   "version": "3.8.10"
  }
 },
 "nbformat": 4,
 "nbformat_minor": 5
}
