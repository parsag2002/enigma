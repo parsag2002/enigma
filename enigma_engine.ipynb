{
 "cells": [
  {
   "cell_type": "markdown",
   "id": "0a18efa5-3ada-4384-8134-9ea0ad00bcb0",
   "metadata": {},
   "source": [
    "# THE ENIGMA MACHINE\n",
    "## Encrypting texts in three rotating rotors and vis verse.\n",
    "    Here we import the rotor we made in pervious program and remaking our arrays"
   ]
  },
  {
   "cell_type": "code",
   "execution_count": 9,
   "id": "9b55b299-38be-4c0e-9a6a-c0e7a5b8979a",
   "metadata": {},
   "outputs": [],
   "source": [
    "import pickle"
   ]
  },
  {
   "cell_type": "code",
   "execution_count": 10,
   "id": "461ee521-7942-4f49-92aa-b43dd00190f3",
   "metadata": {},
   "outputs": [],
   "source": [
    "with open('rotors.pickle', 'rb') as file:\n",
    "    rotors = pickle.load(file)"
   ]
  },
  {
   "cell_type": "code",
   "execution_count": 11,
   "id": "58f31358-6dd7-4da6-b069-d2d3619cebd6",
   "metadata": {},
   "outputs": [],
   "source": [
    "rotorI = rotors[0]\n",
    "rotorII = rotors[1]\n",
    "rotorIII = rotors[2]\n",
    "rotorIV = rotors[3]\n",
    "rotorV = rotors[4]"
   ]
  },
  {
   "cell_type": "markdown",
   "id": "492b904a-3d62-4f77-94e2-74ee2c29b856",
   "metadata": {},
   "source": [
    "## Printing welcome massage and also getting initial setting and state for rotors:\n",
    "    already states and setting is automatically set."
   ]
  },
  {
   "cell_type": "code",
   "execution_count": 12,
   "id": "23fe5b65-e4d1-4ae0-a556-8cf3791d06bb",
   "metadata": {},
   "outputs": [
    {
     "name": "stdout",
     "output_type": "stream",
     "text": [
      "..::WELCOME TO THE ENIGMA MACHINE::..\n",
      "WWII's most intalligent encrypting machine...\n",
      "\n",
      "Your rotors set are: I, II, III\n",
      "Your rotors state are: 0, 0, 0\n"
     ]
    }
   ],
   "source": [
    "print('..::WELCOME TO THE ENIGMA MACHINE::..')\n",
    "print(\"WWII's most intalligent encrypting machine...\\n\")\n",
    "print('Your rotors set are: I, II, III')\n",
    "print('Your rotors state are: 0, 0, 0')"
   ]
  },
  {
   "cell_type": "markdown",
   "id": "a6db8f36-f7e1-4f20-8942-eee06f5cded8",
   "metadata": {},
   "source": [
    "## Getting the plaintext or the cipher."
   ]
  },
  {
   "cell_type": "code",
   "execution_count": 13,
   "id": "50b27361-9fdf-4383-8623-056c4efc8203",
   "metadata": {
    "scrolled": true
   },
   "outputs": [
    {
     "name": "stdin",
     "output_type": "stream",
     "text": [
      "type the text you want to encrypt or decrypt: hihi\n"
     ]
    }
   ],
   "source": [
    "intext = input('type the text you want to encrypt or decrypt:')\n",
    "outtext = ''\n",
    "state = 0"
   ]
  },
  {
   "cell_type": "markdown",
   "id": "d3a1b03e-fc75-4f5f-a941-d8d6b797877b",
   "metadata": {},
   "source": [
    "## Finding the corresponding letter through rotors:\n",
    "    It will change 7 times."
   ]
  },
  {
   "cell_type": "code",
   "execution_count": 17,
   "id": "86eb9a84-b688-4e7e-8b53-139b9a60ab4e",
   "metadata": {},
   "outputs": [],
   "source": [
    "\n",
    "def encoder(input):\n",
    "    \n",
    "    alphabet = 'abcdefghijklmnopqrstuvwxyz'\n",
    "\n",
    "    rotate_rotors()\n",
    "    ch1 = rotorI[alphabet.find(letter)]\n",
    "    print(ch1)\n",
    "    ch2 = rotorII[alphabet.find(ch1)]\n",
    "    print(ch2)\n",
    "    ch3 = rotorIII[alphabet.find(ch2)]\n",
    "    print(ch3)\n",
    "    reflected = alphabet[len(alphabet) - alphabet.find(ch3) - 1]\n",
    "    print(reflected)\n",
    "    ch3back = alphabet[rotorIII.find(reflected)]\n",
    "    print(ch3back)\n",
    "    ch2back = alphabet[rotorII.find(ch3back)]\n",
    "    print(ch2back)\n",
    "    ch1back = alphabet[rotorI.find(ch2back)]\n",
    "    print(ch1back)\n",
    "    print('one letter done')\n",
    "\n",
    "    return ch1back"
   ]
  },
  {
   "cell_type": "markdown",
   "id": "0249ebbf-0007-4b9d-b6dd-d4f9dfdc8b2b",
   "metadata": {},
   "source": [
    "## Rotating the rotors after each letter."
   ]
  },
  {
   "cell_type": "code",
   "execution_count": 18,
   "id": "df3fb19e-75bd-4dd4-bd40-abb0b19b06d6",
   "metadata": {},
   "outputs": [],
   "source": [
    "def rotate_rotors():\n",
    "    global rotorI,rotorII,rotorIII, state\n",
    "    rotorI = rotorI[1:] + rotorI[0]\n",
    "    if state % 26 and state != 0:\n",
    "        rotorII = rotorII[1:] + rotorII[0]\n",
    "    if state % (26*26) and state != 0:\n",
    "        rotorIII = rotorIII[1:] + rotorIII[0]\n",
    "    state += 1"
   ]
  },
  {
   "cell_type": "markdown",
   "id": "ea43ab55-2c16-463e-b233-c439354e8b23",
   "metadata": {},
   "source": [
    "## Final functions call."
   ]
  },
  {
   "cell_type": "code",
   "execution_count": 19,
   "id": "815f7738-48cd-4347-a6e3-76c3daa406be",
   "metadata": {},
   "outputs": [
    {
     "name": "stdout",
     "output_type": "stream",
     "text": [
      "p\n",
      "q\n",
      "j\n",
      "q\n",
      "u\n",
      "m\n",
      "l\n",
      "one letter done\n",
      "d\n",
      "d\n",
      "u\n",
      "f\n",
      "z\n",
      "j\n",
      "u\n",
      "one letter done\n",
      "d\n",
      "w\n",
      "i\n",
      "r\n",
      "z\n",
      "i\n",
      "a\n",
      "one letter done\n",
      "m\n",
      "q\n",
      "y\n",
      "b\n",
      "u\n",
      "j\n",
      "s\n",
      "one letter done\n",
      "luas\n"
     ]
    }
   ],
   "source": [
    "for letter in intext:\n",
    "    outtext += encoder(letter)\n",
    "    \n",
    "print(outtext)\n",
    "outtext = ''"
   ]
  }
 ],
 "metadata": {
  "kernelspec": {
   "display_name": "Python 3 (ipykernel)",
   "language": "python",
   "name": "python3"
  },
  "language_info": {
   "codemirror_mode": {
    "name": "ipython",
    "version": 3
   },
   "file_extension": ".py",
   "mimetype": "text/x-python",
   "name": "python",
   "nbconvert_exporter": "python",
   "pygments_lexer": "ipython3",
   "version": "3.8.10"
  }
 },
 "nbformat": 4,
 "nbformat_minor": 5
}
